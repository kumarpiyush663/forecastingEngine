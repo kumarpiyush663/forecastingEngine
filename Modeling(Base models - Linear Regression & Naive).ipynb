{
 "cells": [
  {
   "cell_type": "code",
   "execution_count": 1,
   "metadata": {},
   "outputs": [],
   "source": [
    "import pandas as pd \n",
    "import numpy as np \n",
    "import sys\n",
    "import warnings\n",
    "import itertools\n",
    "warnings.filterwarnings(\"ignore\")\n",
    "import statsmodels.api as sm\n",
    "import statsmodels.tsa.api as smt\n",
    "import statsmodels.formula.api as smf\n",
    "from sklearn.metrics import mean_squared_error\n",
    "import matplotlib.pyplot as plt\n",
    "%matplotlib inline\n",
    "import datetime\n",
    "import calendar\n",
    "import seaborn as sns"
   ]
  },
  {
   "cell_type": "code",
   "execution_count": 2,
   "metadata": {},
   "outputs": [
    {
     "data": {
      "text/html": [
       "<div>\n",
       "<style scoped>\n",
       "    .dataframe tbody tr th:only-of-type {\n",
       "        vertical-align: middle;\n",
       "    }\n",
       "\n",
       "    .dataframe tbody tr th {\n",
       "        vertical-align: top;\n",
       "    }\n",
       "\n",
       "    .dataframe thead th {\n",
       "        text-align: right;\n",
       "    }\n",
       "</style>\n",
       "<table border=\"1\" class=\"dataframe\">\n",
       "  <thead>\n",
       "    <tr style=\"text-align: right;\">\n",
       "      <th></th>\n",
       "      <th>TIME_STAMP</th>\n",
       "      <th>MoU Overall</th>\n",
       "    </tr>\n",
       "  </thead>\n",
       "  <tbody>\n",
       "    <tr>\n",
       "      <td>380</td>\n",
       "      <td>2019-11-01 16</td>\n",
       "      <td>36557861.15</td>\n",
       "    </tr>\n",
       "    <tr>\n",
       "      <td>932</td>\n",
       "      <td>2019-11-02 16</td>\n",
       "      <td>36197072.99</td>\n",
       "    </tr>\n",
       "    <tr>\n",
       "      <td>1484</td>\n",
       "      <td>2019-11-03 16</td>\n",
       "      <td>33305300.94</td>\n",
       "    </tr>\n",
       "    <tr>\n",
       "      <td>2036</td>\n",
       "      <td>2019-11-04 16</td>\n",
       "      <td>37308981.02</td>\n",
       "    </tr>\n",
       "    <tr>\n",
       "      <td>2588</td>\n",
       "      <td>2019-11-05 16</td>\n",
       "      <td>37237728.36</td>\n",
       "    </tr>\n",
       "  </tbody>\n",
       "</table>\n",
       "</div>"
      ],
      "text/plain": [
       "         TIME_STAMP  MoU Overall\n",
       "380   2019-11-01 16  36557861.15\n",
       "932   2019-11-02 16  36197072.99\n",
       "1484  2019-11-03 16  33305300.94\n",
       "2036  2019-11-04 16  37308981.02\n",
       "2588  2019-11-05 16  37237728.36"
      ]
     },
     "execution_count": 2,
     "metadata": {},
     "output_type": "execute_result"
    }
   ],
   "source": [
    "kpiName = 'MoU Overall'\n",
    "circleName = 'MAHARASHTRA'\n",
    "howIndiaTalksDf = pd.read_csv('C:/Users/piyush12.kumar/PycharmProjects/fileRead/foreCasting/how_india_talks_[2019-11-01, 2020-02-23].csv')\n",
    "howIndiaTalksDf = howIndiaTalksDf.loc[howIndiaTalksDf['CIRCLE'] == circleName]\n",
    "howIndiaTalksDf[['First', 'Last']] = howIndiaTalksDf.TIME_STAMP.str.split(\" \", expand=True, )\n",
    "howIndiaTalksDf = howIndiaTalksDf.loc[howIndiaTalksDf['Last'] == \"16\"]\n",
    "data = howIndiaTalksDf[['TIME_STAMP', kpiName]]\n",
    "data.head()"
   ]
  },
  {
   "cell_type": "code",
   "execution_count": 3,
   "metadata": {},
   "outputs": [
    {
     "data": {
      "image/png": "[encoded data removed]",
      "text/plain": [
       "<Figure size 576x288 with 1 Axes>"
      ]
     },
     "metadata": {
      "needs_background": "light"
     },
     "output_type": "display_data"
    }
   ],
   "source": [
    "data.columns = [c.replace(' ', '_') for c in data.columns]\n",
    "plt.figure(figsize=(8,4))\n",
    "plt.boxplot(data.MoU_Overall)\n",
    "plt.title('Box Plot For MoU Overall')\n",
    "plt.xlabel('MoU Overall')\n",
    "plt.ylabel(' Values in Millions')\n",
    "plt.show()"
   ]
  },
  {
   "cell_type": "code",
   "execution_count": 4,
   "metadata": {},
   "outputs": [
    {
     "data": {
      "text/plain": [
       "DatetimeIndex(['2019-11-01 16:00:00', '2019-11-02 16:00:00',\n",
       "               '2019-11-03 16:00:00', '2019-11-04 16:00:00',\n",
       "               '2019-11-05 16:00:00'],\n",
       "              dtype='datetime64[ns]', freq='D')"
      ]
     },
     "execution_count": 4,
     "metadata": {},
     "output_type": "execute_result"
    }
   ],
   "source": [
    "dates = pd.date_range(start='2019-11-01 16:00:00', freq='D', periods=len(data))\n",
    "dates[0:5]"
   ]
  },
  {
   "cell_type": "code",
   "execution_count": 5,
   "metadata": {},
   "outputs": [
    {
     "data": {
      "text/html": [
       "<div>\n",
       "<style scoped>\n",
       "    .dataframe tbody tr th:only-of-type {\n",
       "        vertical-align: middle;\n",
       "    }\n",
       "\n",
       "    .dataframe tbody tr th {\n",
       "        vertical-align: top;\n",
       "    }\n",
       "\n",
       "    .dataframe thead th {\n",
       "        text-align: right;\n",
       "    }\n",
       "</style>\n",
       "<table border=\"1\" class=\"dataframe\">\n",
       "  <thead>\n",
       "    <tr style=\"text-align: right;\">\n",
       "      <th></th>\n",
       "      <th>MoU_Overall</th>\n",
       "    </tr>\n",
       "    <tr>\n",
       "      <th>TIME_STAMP</th>\n",
       "      <th></th>\n",
       "    </tr>\n",
       "  </thead>\n",
       "  <tbody>\n",
       "    <tr>\n",
       "      <td>2019-11-01 16</td>\n",
       "      <td>36557861.15</td>\n",
       "    </tr>\n",
       "    <tr>\n",
       "      <td>2019-11-02 16</td>\n",
       "      <td>36197072.99</td>\n",
       "    </tr>\n",
       "    <tr>\n",
       "      <td>2019-11-03 16</td>\n",
       "      <td>33305300.94</td>\n",
       "    </tr>\n",
       "    <tr>\n",
       "      <td>2019-11-04 16</td>\n",
       "      <td>37308981.02</td>\n",
       "    </tr>\n",
       "    <tr>\n",
       "      <td>2019-11-05 16</td>\n",
       "      <td>37237728.36</td>\n",
       "    </tr>\n",
       "  </tbody>\n",
       "</table>\n",
       "</div>"
      ],
      "text/plain": [
       "               MoU_Overall\n",
       "TIME_STAMP                \n",
       "2019-11-01 16  36557861.15\n",
       "2019-11-02 16  36197072.99\n",
       "2019-11-03 16  33305300.94\n",
       "2019-11-04 16  37308981.02\n",
       "2019-11-05 16  37237728.36"
      ]
     },
     "execution_count": 5,
     "metadata": {},
     "output_type": "execute_result"
    }
   ],
   "source": [
    "data.set_index('TIME_STAMP',inplace=True)\n",
    "data.head()"
   ]
  },
  {
   "cell_type": "code",
   "execution_count": 6,
   "metadata": {},
   "outputs": [
    {
     "data": {
      "text/plain": [
       "TIME_STAMP\n",
       "2019-11-01 16    36557861.15\n",
       "2019-11-02 16    36197072.99\n",
       "2019-11-03 16    33305300.94\n",
       "2019-11-04 16    37308981.02\n",
       "2019-11-05 16    37237728.36\n",
       "Name: MoU_Overall, dtype: float64"
      ]
     },
     "execution_count": 6,
     "metadata": {},
     "output_type": "execute_result"
    }
   ],
   "source": [
    "mou_ts = data['MoU_Overall']\n",
    "mou_ts[0:5]"
   ]
  },
  {
   "cell_type": "code",
   "execution_count": 7,
   "metadata": {},
   "outputs": [
    {
     "data": {
      "text/html": [
       "<div>\n",
       "<style scoped>\n",
       "    .dataframe tbody tr th:only-of-type {\n",
       "        vertical-align: middle;\n",
       "    }\n",
       "\n",
       "    .dataframe tbody tr th {\n",
       "        vertical-align: top;\n",
       "    }\n",
       "\n",
       "    .dataframe thead th {\n",
       "        text-align: right;\n",
       "    }\n",
       "</style>\n",
       "<table border=\"1\" class=\"dataframe\">\n",
       "  <thead>\n",
       "    <tr style=\"text-align: right;\">\n",
       "      <th></th>\n",
       "      <th>MoU_Overall</th>\n",
       "    </tr>\n",
       "    <tr>\n",
       "      <th>TIME_STAMP</th>\n",
       "      <th></th>\n",
       "    </tr>\n",
       "  </thead>\n",
       "  <tbody>\n",
       "    <tr>\n",
       "      <td>2019-11-01 16</td>\n",
       "      <td>36557861.15</td>\n",
       "    </tr>\n",
       "    <tr>\n",
       "      <td>2019-11-02 16</td>\n",
       "      <td>36197072.99</td>\n",
       "    </tr>\n",
       "    <tr>\n",
       "      <td>2019-11-03 16</td>\n",
       "      <td>33305300.94</td>\n",
       "    </tr>\n",
       "    <tr>\n",
       "      <td>2019-11-04 16</td>\n",
       "      <td>37308981.02</td>\n",
       "    </tr>\n",
       "    <tr>\n",
       "      <td>2019-11-05 16</td>\n",
       "      <td>37237728.36</td>\n",
       "    </tr>\n",
       "  </tbody>\n",
       "</table>\n",
       "</div>"
      ],
      "text/plain": [
       "               MoU_Overall\n",
       "TIME_STAMP                \n",
       "2019-11-01 16  36557861.15\n",
       "2019-11-02 16  36197072.99\n",
       "2019-11-03 16  33305300.94\n",
       "2019-11-04 16  37308981.02\n",
       "2019-11-05 16  37237728.36"
      ]
     },
     "execution_count": 7,
     "metadata": {},
     "output_type": "execute_result"
    }
   ],
   "source": [
    "# Modeling\n",
    "data = pd.DataFrame(mou_ts.copy())\n",
    "data.head()"
   ]
  },
  {
   "cell_type": "code",
   "execution_count": 8,
   "metadata": {},
   "outputs": [
    {
     "data": {
      "text/plain": [
       "87"
      ]
     },
     "execution_count": 8,
     "metadata": {},
     "output_type": "execute_result"
    }
   ],
   "source": [
    "# 1. Regression on time\n",
    "\n",
    "\n",
    "time = [i+1 for i in range(len(data))]\n",
    "# Splitting Train and Test Length\n",
    "train_len = int(np.ceil(len(data) * 0.75))\n",
    "train_len"
   ]
  },
  {
   "cell_type": "code",
   "execution_count": 10,
   "metadata": {},
   "outputs": [
    {
     "data": {
      "text/html": [
       "<div>\n",
       "<style scoped>\n",
       "    .dataframe tbody tr th:only-of-type {\n",
       "        vertical-align: middle;\n",
       "    }\n",
       "\n",
       "    .dataframe tbody tr th {\n",
       "        vertical-align: top;\n",
       "    }\n",
       "\n",
       "    .dataframe thead th {\n",
       "        text-align: right;\n",
       "    }\n",
       "</style>\n",
       "<table border=\"1\" class=\"dataframe\">\n",
       "  <thead>\n",
       "    <tr style=\"text-align: right;\">\n",
       "      <th></th>\n",
       "      <th>MoU_Overall</th>\n",
       "      <th>time</th>\n",
       "    </tr>\n",
       "    <tr>\n",
       "      <th>TIME_STAMP</th>\n",
       "      <th></th>\n",
       "      <th></th>\n",
       "    </tr>\n",
       "  </thead>\n",
       "  <tbody>\n",
       "    <tr>\n",
       "      <td>2019-11-01 16</td>\n",
       "      <td>36557861.15</td>\n",
       "      <td>1</td>\n",
       "    </tr>\n",
       "    <tr>\n",
       "      <td>2019-11-02 16</td>\n",
       "      <td>36197072.99</td>\n",
       "      <td>2</td>\n",
       "    </tr>\n",
       "    <tr>\n",
       "      <td>2019-11-03 16</td>\n",
       "      <td>33305300.94</td>\n",
       "      <td>3</td>\n",
       "    </tr>\n",
       "    <tr>\n",
       "      <td>2019-11-04 16</td>\n",
       "      <td>37308981.02</td>\n",
       "      <td>4</td>\n",
       "    </tr>\n",
       "    <tr>\n",
       "      <td>2019-11-05 16</td>\n",
       "      <td>37237728.36</td>\n",
       "      <td>5</td>\n",
       "    </tr>\n",
       "  </tbody>\n",
       "</table>\n",
       "</div>"
      ],
      "text/plain": [
       "               MoU_Overall  time\n",
       "TIME_STAMP                      \n",
       "2019-11-01 16  36557861.15     1\n",
       "2019-11-02 16  36197072.99     2\n",
       "2019-11-03 16  33305300.94     3\n",
       "2019-11-04 16  37308981.02     4\n",
       "2019-11-05 16  37237728.36     5"
      ]
     },
     "execution_count": 10,
     "metadata": {},
     "output_type": "execute_result"
    }
   ],
   "source": [
    "data1 = data.copy()\n",
    "data1['time'] = time\n",
    "train=data1[0:train_len] \n",
    "test=data1[train_len:]\n",
    "\n",
    "train.head()"
   ]
  },
  {
   "cell_type": "code",
   "execution_count": 11,
   "metadata": {},
   "outputs": [
    {
     "name": "stdout",
     "output_type": "stream",
     "text": [
      "Train data length : 87\n",
      "Test  data length : 28\n"
     ]
    }
   ],
   "source": [
    "print('Train data length :',len(train))\n",
    "print('Test  data length :',len(test))"
   ]
  },
  {
   "cell_type": "code",
   "execution_count": 13,
   "metadata": {},
   "outputs": [],
   "source": [
    "\n",
    "x_train = train.drop('MoU_Overall',axis=1)\n",
    "x_test = test.drop('MoU_Overall', axis=1)\n",
    "y_train = train[['MoU_Overall']]\n",
    "y_test = test[['MoU_Overall']]"
   ]
  },
  {
   "cell_type": "code",
   "execution_count": 14,
   "metadata": {},
   "outputs": [],
   "source": [
    "# Linear Regression\n",
    "from sklearn.linear_model import LinearRegression"
   ]
  },
  {
   "cell_type": "code",
   "execution_count": 15,
   "metadata": {},
   "outputs": [
    {
     "data": {
      "text/plain": [
       "LinearRegression(copy_X=True, fit_intercept=True, n_jobs=None, normalize=False)"
      ]
     },
     "execution_count": 15,
     "metadata": {},
     "output_type": "execute_result"
    }
   ],
   "source": [
    "model = LinearRegression()\n",
    "model.fit(x_train, y_train)"
   ]
  },
  {
   "cell_type": "code",
   "execution_count": 17,
   "metadata": {},
   "outputs": [],
   "source": [
    "predictions = model.predict(x_test)\n",
    "y_test['RegOnTime'] = predictions"
   ]
  },
  {
   "cell_type": "code",
   "execution_count": 18,
   "metadata": {},
   "outputs": [
    {
     "data": {
      "image/png": "[encoded data removed]",
      "text/plain": [
       "<Figure size 864x576 with 1 Axes>"
      ]
     },
     "metadata": {
      "needs_background": "light"
     },
     "output_type": "display_data"
    }
   ],
   "source": [
    "plt.figure(figsize=(12,8))\n",
    "plt.plot( train['MoU_Overall'], label='Train')\n",
    "plt.plot(test['MoU_Overall'], label='Test')\n",
    "plt.plot(y_test['RegOnTime'], label='Regression On Time')\n",
    "plt.legend(loc='best')\n",
    "plt.show()"
   ]
  },
  {
   "cell_type": "code",
   "execution_count": 19,
   "metadata": {},
   "outputs": [],
   "source": [
    "# Root Mean Square Error (RMSE)\n",
    "rmse = np.sqrt(mean_squared_error(test.MoU_Overall, y_test.RegOnTime))\n",
    "rmse = round(rmse, 3)"
   ]
  },
  {
   "cell_type": "code",
   "execution_count": 21,
   "metadata": {},
   "outputs": [
    {
     "data": {
      "text/html": [
       "<div>\n",
       "<style scoped>\n",
       "    .dataframe tbody tr th:only-of-type {\n",
       "        vertical-align: middle;\n",
       "    }\n",
       "\n",
       "    .dataframe tbody tr th {\n",
       "        vertical-align: top;\n",
       "    }\n",
       "\n",
       "    .dataframe thead th {\n",
       "        text-align: right;\n",
       "    }\n",
       "</style>\n",
       "<table border=\"1\" class=\"dataframe\">\n",
       "  <thead>\n",
       "    <tr style=\"text-align: right;\">\n",
       "      <th></th>\n",
       "      <th>Method</th>\n",
       "      <th>RMSE</th>\n",
       "    </tr>\n",
       "  </thead>\n",
       "  <tbody>\n",
       "    <tr>\n",
       "      <td>0</td>\n",
       "      <td>RegressionOnTime</td>\n",
       "      <td>1802898.173</td>\n",
       "    </tr>\n",
       "  </tbody>\n",
       "</table>\n",
       "</div>"
      ],
      "text/plain": [
       "             Method         RMSE\n",
       "0  RegressionOnTime  1802898.173"
      ]
     },
     "execution_count": 21,
     "metadata": {},
     "output_type": "execute_result"
    }
   ],
   "source": [
    "# Mean Absolute Percentage Error\n",
    "abs_error = np.abs(y_test['MoU_Overall']-y_test['RegOnTime'])\n",
    "actual = y_test['MoU_Overall']\n",
    "mape = np.round(np.mean(abs_error/actual),3)\n",
    "resultsDf = pd.DataFrame({'Method':['RegressionOnTime'], 'RMSE': [rmse]})\n",
    "resultsDf"
   ]
  },
  {
   "cell_type": "code",
   "execution_count": 22,
   "metadata": {},
   "outputs": [
    {
     "data": {
      "text/html": [
       "<div>\n",
       "<style scoped>\n",
       "    .dataframe tbody tr th:only-of-type {\n",
       "        vertical-align: middle;\n",
       "    }\n",
       "\n",
       "    .dataframe tbody tr th {\n",
       "        vertical-align: top;\n",
       "    }\n",
       "\n",
       "    .dataframe thead th {\n",
       "        text-align: right;\n",
       "    }\n",
       "</style>\n",
       "<table border=\"1\" class=\"dataframe\">\n",
       "  <thead>\n",
       "    <tr style=\"text-align: right;\">\n",
       "      <th></th>\n",
       "      <th>Method</th>\n",
       "      <th>RMSE</th>\n",
       "      <th>MAPE</th>\n",
       "    </tr>\n",
       "  </thead>\n",
       "  <tbody>\n",
       "    <tr>\n",
       "      <td>0</td>\n",
       "      <td>RegressionOnTime</td>\n",
       "      <td>1802898.173</td>\n",
       "      <td>0.039</td>\n",
       "    </tr>\n",
       "  </tbody>\n",
       "</table>\n",
       "</div>"
      ],
      "text/plain": [
       "             Method         RMSE   MAPE\n",
       "0  RegressionOnTime  1802898.173  0.039"
      ]
     },
     "execution_count": 22,
     "metadata": {},
     "output_type": "execute_result"
    }
   ],
   "source": [
    "# Storing results in a dataframe\n",
    "# MAPE = mean absolute percentage error\n",
    "resultsDf = pd.DataFrame({'Method':['RegressionOnTime'], 'MAPE': [mape], 'RMSE': [rmse]})\n",
    "resultsDf = resultsDf[['Method', 'RMSE', 'MAPE']]\n",
    "resultsDf"
   ]
  },
  {
   "cell_type": "code",
   "execution_count": 50,
   "metadata": {},
   "outputs": [
    {
     "data": {
      "text/html": [
       "<div>\n",
       "<style scoped>\n",
       "    .dataframe tbody tr th:only-of-type {\n",
       "        vertical-align: middle;\n",
       "    }\n",
       "\n",
       "    .dataframe tbody tr th {\n",
       "        vertical-align: top;\n",
       "    }\n",
       "\n",
       "    .dataframe thead th {\n",
       "        text-align: right;\n",
       "    }\n",
       "</style>\n",
       "<table border=\"1\" class=\"dataframe\">\n",
       "  <thead>\n",
       "    <tr style=\"text-align: right;\">\n",
       "      <th></th>\n",
       "      <th>MoU_Overall</th>\n",
       "      <th>time</th>\n",
       "    </tr>\n",
       "    <tr>\n",
       "      <th>TIME_STAMP</th>\n",
       "      <th></th>\n",
       "      <th></th>\n",
       "    </tr>\n",
       "  </thead>\n",
       "  <tbody>\n",
       "    <tr>\n",
       "      <td>2019-11-01 16</td>\n",
       "      <td>36557861.15</td>\n",
       "      <td>1</td>\n",
       "    </tr>\n",
       "    <tr>\n",
       "      <td>2019-11-02 16</td>\n",
       "      <td>36197072.99</td>\n",
       "      <td>2</td>\n",
       "    </tr>\n",
       "    <tr>\n",
       "      <td>2019-11-03 16</td>\n",
       "      <td>33305300.94</td>\n",
       "      <td>3</td>\n",
       "    </tr>\n",
       "    <tr>\n",
       "      <td>2019-11-04 16</td>\n",
       "      <td>37308981.02</td>\n",
       "      <td>4</td>\n",
       "    </tr>\n",
       "    <tr>\n",
       "      <td>2019-11-05 16</td>\n",
       "      <td>37237728.36</td>\n",
       "      <td>5</td>\n",
       "    </tr>\n",
       "  </tbody>\n",
       "</table>\n",
       "</div>"
      ],
      "text/plain": [
       "               MoU_Overall  time\n",
       "TIME_STAMP                      \n",
       "2019-11-01 16  36557861.15     1\n",
       "2019-11-02 16  36197072.99     2\n",
       "2019-11-03 16  33305300.94     3\n",
       "2019-11-04 16  37308981.02     4\n",
       "2019-11-05 16  37237728.36     5"
      ]
     },
     "execution_count": 50,
     "metadata": {},
     "output_type": "execute_result"
    }
   ],
   "source": [
    "# Regression on time with seasonal component\n",
    "time = [i+1 for i in range(len(data))]\n",
    "data1 = data.copy()\n",
    "data1['time'] = time\n",
    "data1.head()"
   ]
  },
  {
   "cell_type": "code",
   "execution_count": 52,
   "metadata": {},
   "outputs": [
    {
     "data": {
      "text/plain": [
       "DatetimeIndex(['2019-11-01 16:00:00', '2019-11-02 16:00:00',\n",
       "               '2019-11-03 16:00:00', '2019-11-04 16:00:00',\n",
       "               '2019-11-05 16:00:00'],\n",
       "              dtype='datetime64[ns]', freq='D')"
      ]
     },
     "execution_count": 52,
     "metadata": {},
     "output_type": "execute_result"
    }
   ],
   "source": [
    "dates = pd.date_range(start='2019-11-01 16:00:00', freq='D', periods=len(data))\n",
    "dates[0:5]"
   ]
  },
  {
   "cell_type": "code",
   "execution_count": 53,
   "metadata": {},
   "outputs": [
    {
     "data": {
      "text/html": [
       "<div>\n",
       "<style scoped>\n",
       "    .dataframe tbody tr th:only-of-type {\n",
       "        vertical-align: middle;\n",
       "    }\n",
       "\n",
       "    .dataframe tbody tr th {\n",
       "        vertical-align: top;\n",
       "    }\n",
       "\n",
       "    .dataframe thead th {\n",
       "        text-align: right;\n",
       "    }\n",
       "</style>\n",
       "<table border=\"1\" class=\"dataframe\">\n",
       "  <thead>\n",
       "    <tr style=\"text-align: right;\">\n",
       "      <th></th>\n",
       "      <th>MoU_Overall</th>\n",
       "      <th>time</th>\n",
       "      <th>weekSeasonality</th>\n",
       "    </tr>\n",
       "    <tr>\n",
       "      <th>TIME_STAMP</th>\n",
       "      <th></th>\n",
       "      <th></th>\n",
       "      <th></th>\n",
       "    </tr>\n",
       "  </thead>\n",
       "  <tbody>\n",
       "    <tr>\n",
       "      <td>2019-11-01 16</td>\n",
       "      <td>36557861.15</td>\n",
       "      <td>1</td>\n",
       "      <td>w1</td>\n",
       "    </tr>\n",
       "    <tr>\n",
       "      <td>2019-11-02 16</td>\n",
       "      <td>36197072.99</td>\n",
       "      <td>2</td>\n",
       "      <td>w2</td>\n",
       "    </tr>\n",
       "    <tr>\n",
       "      <td>2019-11-03 16</td>\n",
       "      <td>33305300.94</td>\n",
       "      <td>3</td>\n",
       "      <td>w3</td>\n",
       "    </tr>\n",
       "    <tr>\n",
       "      <td>2019-11-04 16</td>\n",
       "      <td>37308981.02</td>\n",
       "      <td>4</td>\n",
       "      <td>w4</td>\n",
       "    </tr>\n",
       "    <tr>\n",
       "      <td>2019-11-05 16</td>\n",
       "      <td>37237728.36</td>\n",
       "      <td>5</td>\n",
       "      <td>w5</td>\n",
       "    </tr>\n",
       "  </tbody>\n",
       "</table>\n",
       "</div>"
      ],
      "text/plain": [
       "               MoU_Overall  time weekSeasonality\n",
       "TIME_STAMP                                      \n",
       "2019-11-01 16  36557861.15     1              w1\n",
       "2019-11-02 16  36197072.99     2              w2\n",
       "2019-11-03 16  33305300.94     3              w3\n",
       "2019-11-04 16  37308981.02     4              w4\n",
       "2019-11-05 16  37237728.36     5              w5"
      ]
     },
     "execution_count": 53,
     "metadata": {},
     "output_type": "execute_result"
    }
   ],
   "source": [
    "# data1['yearSeasonality']= dates.year\n",
    "# data1['daySeasonality']= dates.day\n",
    "# data1['monthSeasonality']= dates.month\n",
    "# data1['weekSeasonality']= dates.week\n",
    "\n",
    "weekSeasonality = ['w1', 'w2', 'w3', 'w4', 'w5', 'w6', 'w7']\n",
    "even = weekSeasonality*16 \n",
    "last = ['w1', 'w2', 'w3']\n",
    "data1['weekSeasonality'] = even + last\n",
    "data1.head()"
   ]
  },
  {
   "cell_type": "code",
   "execution_count": 54,
   "metadata": {},
   "outputs": [
    {
     "data": {
      "text/html": [
       "<div>\n",
       "<style scoped>\n",
       "    .dataframe tbody tr th:only-of-type {\n",
       "        vertical-align: middle;\n",
       "    }\n",
       "\n",
       "    .dataframe tbody tr th {\n",
       "        vertical-align: top;\n",
       "    }\n",
       "\n",
       "    .dataframe thead th {\n",
       "        text-align: right;\n",
       "    }\n",
       "</style>\n",
       "<table border=\"1\" class=\"dataframe\">\n",
       "  <thead>\n",
       "    <tr style=\"text-align: right;\">\n",
       "      <th></th>\n",
       "      <th>MoU_Overall</th>\n",
       "      <th>time</th>\n",
       "      <th>weekSeasonality</th>\n",
       "    </tr>\n",
       "    <tr>\n",
       "      <th>TIME_STAMP</th>\n",
       "      <th></th>\n",
       "      <th></th>\n",
       "      <th></th>\n",
       "    </tr>\n",
       "  </thead>\n",
       "  <tbody>\n",
       "    <tr>\n",
       "      <td>2020-02-19 16</td>\n",
       "      <td>39766802.17</td>\n",
       "      <td>111</td>\n",
       "      <td>w6</td>\n",
       "    </tr>\n",
       "    <tr>\n",
       "      <td>2020-02-20 16</td>\n",
       "      <td>41906162.62</td>\n",
       "      <td>112</td>\n",
       "      <td>w7</td>\n",
       "    </tr>\n",
       "    <tr>\n",
       "      <td>2020-02-21 16</td>\n",
       "      <td>39195497.92</td>\n",
       "      <td>113</td>\n",
       "      <td>w1</td>\n",
       "    </tr>\n",
       "    <tr>\n",
       "      <td>2020-02-22 16</td>\n",
       "      <td>39399048.24</td>\n",
       "      <td>114</td>\n",
       "      <td>w2</td>\n",
       "    </tr>\n",
       "    <tr>\n",
       "      <td>2020-02-23 16</td>\n",
       "      <td>37228794.62</td>\n",
       "      <td>115</td>\n",
       "      <td>w3</td>\n",
       "    </tr>\n",
       "  </tbody>\n",
       "</table>\n",
       "</div>"
      ],
      "text/plain": [
       "               MoU_Overall  time weekSeasonality\n",
       "TIME_STAMP                                      \n",
       "2020-02-19 16  39766802.17   111              w6\n",
       "2020-02-20 16  41906162.62   112              w7\n",
       "2020-02-21 16  39195497.92   113              w1\n",
       "2020-02-22 16  39399048.24   114              w2\n",
       "2020-02-23 16  37228794.62   115              w3"
      ]
     },
     "execution_count": 54,
     "metadata": {},
     "output_type": "execute_result"
    }
   ],
   "source": [
    "data1.tail()"
   ]
  },
  {
   "cell_type": "code",
   "execution_count": 55,
   "metadata": {},
   "outputs": [
    {
     "data": {
      "text/html": [
       "<div>\n",
       "<style scoped>\n",
       "    .dataframe tbody tr th:only-of-type {\n",
       "        vertical-align: middle;\n",
       "    }\n",
       "\n",
       "    .dataframe tbody tr th {\n",
       "        vertical-align: top;\n",
       "    }\n",
       "\n",
       "    .dataframe thead th {\n",
       "        text-align: right;\n",
       "    }\n",
       "</style>\n",
       "<table border=\"1\" class=\"dataframe\">\n",
       "  <thead>\n",
       "    <tr style=\"text-align: right;\">\n",
       "      <th>TIME_STAMP</th>\n",
       "      <th>2019-11-01 16</th>\n",
       "      <th>2019-11-02 16</th>\n",
       "    </tr>\n",
       "  </thead>\n",
       "  <tbody>\n",
       "    <tr>\n",
       "      <td>MoU_Overall</td>\n",
       "      <td>36557861.15</td>\n",
       "      <td>36197072.99</td>\n",
       "    </tr>\n",
       "    <tr>\n",
       "      <td>time</td>\n",
       "      <td>1.00</td>\n",
       "      <td>2.00</td>\n",
       "    </tr>\n",
       "    <tr>\n",
       "      <td>weekSeasonality_w2</td>\n",
       "      <td>0.00</td>\n",
       "      <td>1.00</td>\n",
       "    </tr>\n",
       "    <tr>\n",
       "      <td>weekSeasonality_w3</td>\n",
       "      <td>0.00</td>\n",
       "      <td>0.00</td>\n",
       "    </tr>\n",
       "    <tr>\n",
       "      <td>weekSeasonality_w4</td>\n",
       "      <td>0.00</td>\n",
       "      <td>0.00</td>\n",
       "    </tr>\n",
       "    <tr>\n",
       "      <td>weekSeasonality_w5</td>\n",
       "      <td>0.00</td>\n",
       "      <td>0.00</td>\n",
       "    </tr>\n",
       "    <tr>\n",
       "      <td>weekSeasonality_w6</td>\n",
       "      <td>0.00</td>\n",
       "      <td>0.00</td>\n",
       "    </tr>\n",
       "    <tr>\n",
       "      <td>weekSeasonality_w7</td>\n",
       "      <td>0.00</td>\n",
       "      <td>0.00</td>\n",
       "    </tr>\n",
       "  </tbody>\n",
       "</table>\n",
       "</div>"
      ],
      "text/plain": [
       "TIME_STAMP          2019-11-01 16  2019-11-02 16\n",
       "MoU_Overall           36557861.15    36197072.99\n",
       "time                         1.00           2.00\n",
       "weekSeasonality_w2           0.00           1.00\n",
       "weekSeasonality_w3           0.00           0.00\n",
       "weekSeasonality_w4           0.00           0.00\n",
       "weekSeasonality_w5           0.00           0.00\n",
       "weekSeasonality_w6           0.00           0.00\n",
       "weekSeasonality_w7           0.00           0.00"
      ]
     },
     "execution_count": 55,
     "metadata": {},
     "output_type": "execute_result"
    }
   ],
   "source": [
    "data1Complete = pd.get_dummies(data1, drop_first=True)\n",
    "data1Complete.head(2).T"
   ]
  },
  {
   "cell_type": "code",
   "execution_count": 56,
   "metadata": {},
   "outputs": [],
   "source": [
    "#Creating train and test set \n",
    "train=data1Complete[0:train_len] \n",
    "test=data1Complete[train_len:]"
   ]
  },
  {
   "cell_type": "code",
   "execution_count": 57,
   "metadata": {},
   "outputs": [
    {
     "data": {
      "text/plain": [
       "LinearRegression(copy_X=True, fit_intercept=True, n_jobs=None, normalize=False)"
      ]
     },
     "execution_count": 57,
     "metadata": {},
     "output_type": "execute_result"
    }
   ],
   "source": [
    "x_train = train.drop('MoU_Overall', axis=1)\n",
    "x_test = test.drop('MoU_Overall', axis=1)\n",
    "y_train = train[['MoU_Overall']]\n",
    "y_test = test[['MoU_Overall']]\n",
    "model = LinearRegression()\n",
    "model.fit(x_train, y_train)"
   ]
  },
  {
   "cell_type": "code",
   "execution_count": 58,
   "metadata": {},
   "outputs": [
    {
     "data": {
      "image/png": "[encoded data removed]",
      "text/plain": [
       "<Figure size 864x576 with 1 Axes>"
      ]
     },
     "metadata": {
      "needs_background": "light"
     },
     "output_type": "display_data"
    }
   ],
   "source": [
    "predictions = model.predict(x_test)\n",
    "\n",
    "# print(predictions)\n",
    "y_test['RegOnTimeSeasonal'] = predictions\n",
    "# y_test.head()\n",
    "plt.figure(figsize=(12,8))\n",
    "plt.plot( train['MoU_Overall'], label='Train')\n",
    "plt.plot(test['MoU_Overall'], label='Test')\n",
    "plt.plot(y_test['RegOnTimeSeasonal'], label='Regression On Time With Seasonal Components')\n",
    "plt.legend(loc='best')\n",
    "plt.show()"
   ]
  },
  {
   "cell_type": "code",
   "execution_count": 59,
   "metadata": {},
   "outputs": [
    {
     "data": {
      "text/html": [
       "<div>\n",
       "<style scoped>\n",
       "    .dataframe tbody tr th:only-of-type {\n",
       "        vertical-align: middle;\n",
       "    }\n",
       "\n",
       "    .dataframe tbody tr th {\n",
       "        vertical-align: top;\n",
       "    }\n",
       "\n",
       "    .dataframe thead th {\n",
       "        text-align: right;\n",
       "    }\n",
       "</style>\n",
       "<table border=\"1\" class=\"dataframe\">\n",
       "  <thead>\n",
       "    <tr style=\"text-align: right;\">\n",
       "      <th></th>\n",
       "      <th>MoU_Overall</th>\n",
       "      <th>RegOnTimeSeasonal</th>\n",
       "    </tr>\n",
       "    <tr>\n",
       "      <th>TIME_STAMP</th>\n",
       "      <th></th>\n",
       "      <th></th>\n",
       "    </tr>\n",
       "  </thead>\n",
       "  <tbody>\n",
       "    <tr>\n",
       "      <td>2020-01-27 16</td>\n",
       "      <td>41162680.46</td>\n",
       "      <td>4.098486e+07</td>\n",
       "    </tr>\n",
       "    <tr>\n",
       "      <td>2020-01-28 16</td>\n",
       "      <td>40880855.59</td>\n",
       "      <td>4.075097e+07</td>\n",
       "    </tr>\n",
       "    <tr>\n",
       "      <td>2020-01-29 16</td>\n",
       "      <td>39602323.77</td>\n",
       "      <td>4.045549e+07</td>\n",
       "    </tr>\n",
       "    <tr>\n",
       "      <td>2020-01-30 16</td>\n",
       "      <td>40592439.16</td>\n",
       "      <td>4.054281e+07</td>\n",
       "    </tr>\n",
       "    <tr>\n",
       "      <td>2020-01-31 16</td>\n",
       "      <td>38978357.58</td>\n",
       "      <td>4.067108e+07</td>\n",
       "    </tr>\n",
       "  </tbody>\n",
       "</table>\n",
       "</div>"
      ],
      "text/plain": [
       "               MoU_Overall  RegOnTimeSeasonal\n",
       "TIME_STAMP                                   \n",
       "2020-01-27 16  41162680.46       4.098486e+07\n",
       "2020-01-28 16  40880855.59       4.075097e+07\n",
       "2020-01-29 16  39602323.77       4.045549e+07\n",
       "2020-01-30 16  40592439.16       4.054281e+07\n",
       "2020-01-31 16  38978357.58       4.067108e+07"
      ]
     },
     "execution_count": 59,
     "metadata": {},
     "output_type": "execute_result"
    }
   ],
   "source": [
    "y_test.head()"
   ]
  },
  {
   "cell_type": "code",
   "execution_count": 60,
   "metadata": {},
   "outputs": [
    {
     "data": {
      "text/html": [
       "<div>\n",
       "<style scoped>\n",
       "    .dataframe tbody tr th:only-of-type {\n",
       "        vertical-align: middle;\n",
       "    }\n",
       "\n",
       "    .dataframe tbody tr th {\n",
       "        vertical-align: top;\n",
       "    }\n",
       "\n",
       "    .dataframe thead th {\n",
       "        text-align: right;\n",
       "    }\n",
       "</style>\n",
       "<table border=\"1\" class=\"dataframe\">\n",
       "  <thead>\n",
       "    <tr style=\"text-align: right;\">\n",
       "      <th></th>\n",
       "      <th>Method</th>\n",
       "      <th>RMSE</th>\n",
       "      <th>MAPE</th>\n",
       "    </tr>\n",
       "  </thead>\n",
       "  <tbody>\n",
       "    <tr>\n",
       "      <td>0</td>\n",
       "      <td>RegressionOnTime</td>\n",
       "      <td>1802898.173</td>\n",
       "      <td>0.0390</td>\n",
       "    </tr>\n",
       "    <tr>\n",
       "      <td>0</td>\n",
       "      <td>RegressionOnTimeSeasonal</td>\n",
       "      <td>856658.111</td>\n",
       "      <td>0.0161</td>\n",
       "    </tr>\n",
       "  </tbody>\n",
       "</table>\n",
       "</div>"
      ],
      "text/plain": [
       "                     Method         RMSE    MAPE\n",
       "0          RegressionOnTime  1802898.173  0.0390\n",
       "0  RegressionOnTimeSeasonal   856658.111  0.0161"
      ]
     },
     "execution_count": 60,
     "metadata": {},
     "output_type": "execute_result"
    }
   ],
   "source": [
    "rmse = np.sqrt(mean_squared_error(test.MoU_Overall, y_test.RegOnTimeSeasonal))\n",
    "rmse = round(rmse, 3)\n",
    "# Mean Absolute Percentage Error\n",
    "abs_error = np.abs(y_test['MoU_Overall']-y_test['RegOnTimeSeasonal'])\n",
    "actual = y_test['MoU_Overall']\n",
    "mape = np.round(np.mean(abs_error/actual),4)\n",
    "# Storing results in a dataframe\n",
    "tempResultsDf = pd.DataFrame({'Method':['RegressionOnTimeSeasonal'], 'RMSE': [rmse],'MAPE': [mape] })\n",
    "resultsDf = pd.concat([resultsDf, tempResultsDf])\n",
    "resultsDf = resultsDf[['Method', 'RMSE', 'MAPE']]\n",
    "resultsDf"
   ]
  },
  {
   "cell_type": "code",
   "execution_count": 61,
   "metadata": {},
   "outputs": [
    {
     "data": {
      "image/png": "[encoded data removed]",
      "text/plain": [
       "<Figure size 864x576 with 1 Axes>"
      ]
     },
     "metadata": {
      "needs_background": "light"
     },
     "output_type": "display_data"
    }
   ],
   "source": [
    "# 3.Naive approach\n",
    "\n",
    "dd= np.asarray(train.MoU_Overall)\n",
    "y_hat = test.copy()\n",
    "y_hat['naive'] = dd[len(dd)-1]\n",
    "plt.figure(figsize=(12,8))\n",
    "plt.plot(train.index, train['MoU_Overall'], label='Train')\n",
    "plt.plot(test.index,test['MoU_Overall'], label='Test')\n",
    "plt.plot(y_hat.index,y_hat['naive'], label='Naive Forecast')\n",
    "plt.legend(loc='best')\n",
    "plt.title(\"Naive Forecast\")\n",
    "plt.show()"
   ]
  },
  {
   "cell_type": "code",
   "execution_count": 62,
   "metadata": {},
   "outputs": [
    {
     "data": {
      "text/html": [
       "<div>\n",
       "<style scoped>\n",
       "    .dataframe tbody tr th:only-of-type {\n",
       "        vertical-align: middle;\n",
       "    }\n",
       "\n",
       "    .dataframe tbody tr th {\n",
       "        vertical-align: top;\n",
       "    }\n",
       "\n",
       "    .dataframe thead th {\n",
       "        text-align: right;\n",
       "    }\n",
       "</style>\n",
       "<table border=\"1\" class=\"dataframe\">\n",
       "  <thead>\n",
       "    <tr style=\"text-align: right;\">\n",
       "      <th></th>\n",
       "      <th>Method</th>\n",
       "      <th>RMSE</th>\n",
       "      <th>MAPE</th>\n",
       "    </tr>\n",
       "  </thead>\n",
       "  <tbody>\n",
       "    <tr>\n",
       "      <td>0</td>\n",
       "      <td>RegressionOnTime</td>\n",
       "      <td>1802898.173</td>\n",
       "      <td>0.0390</td>\n",
       "    </tr>\n",
       "    <tr>\n",
       "      <td>0</td>\n",
       "      <td>RegressionOnTimeSeasonal</td>\n",
       "      <td>856658.111</td>\n",
       "      <td>0.0161</td>\n",
       "    </tr>\n",
       "    <tr>\n",
       "      <td>0</td>\n",
       "      <td>Naive forecast</td>\n",
       "      <td>4441011.538</td>\n",
       "      <td>0.0991</td>\n",
       "    </tr>\n",
       "  </tbody>\n",
       "</table>\n",
       "</div>"
      ],
      "text/plain": [
       "                     Method         RMSE    MAPE\n",
       "0          RegressionOnTime  1802898.173  0.0390\n",
       "0  RegressionOnTimeSeasonal   856658.111  0.0161\n",
       "0            Naive forecast  4441011.538  0.0991"
      ]
     },
     "execution_count": 62,
     "metadata": {},
     "output_type": "execute_result"
    }
   ],
   "source": [
    "# Root Mean Square Error (RMSE)\n",
    "rmse = np.sqrt(mean_squared_error(test.MoU_Overall, y_hat.naive))\n",
    "rmse = round(rmse, 3)\n",
    "# Mean Absolute Percentage Error\n",
    "abs_error = np.abs(y_test['MoU_Overall']-y_hat.naive)\n",
    "actual = y_test['MoU_Overall']\n",
    "mape = np.round(np.mean(abs_error/actual),4)\n",
    "# Storing results in a dataframe\n",
    "tempResultsDf = pd.DataFrame({'Method':['Naive forecast'], 'RMSE': [rmse],'MAPE': [mape] })\n",
    "resultsDf = pd.concat([resultsDf, tempResultsDf])\n",
    "resultsDf = resultsDf[['Method', 'RMSE', 'MAPE']]\n",
    "resultsDf"
   ]
  },
  {
   "cell_type": "code",
   "execution_count": null,
   "metadata": {},
   "outputs": [],
   "source": [
    "# Naive's scores are the base score for a model since it is taking just the previous value of the series. Linear Regression with Time and Seasonal has shown better performance than on Time."
   ]
  }
 ],
 "metadata": {
  "kernelspec": {
   "display_name": "Python 3",
   "language": "python",
   "name": "python3"
  },
  "language_info": {
   "codemirror_mode": {
    "name": "ipython",
    "version": 3
   },
   "file_extension": ".py",
   "mimetype": "text/x-python",
   "name": "python",
   "nbconvert_exporter": "python",
   "pygments_lexer": "ipython3",
   "version": "3.7.4"
  }
 },
 "nbformat": 4,
 "nbformat_minor": 2
}
